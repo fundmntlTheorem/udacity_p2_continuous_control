{
 "cells": [
  {
   "cell_type": "code",
   "execution_count": 1,
   "id": "818cf547",
   "metadata": {},
   "outputs": [
    {
     "name": "stdout",
     "output_type": "stream",
     "text": [
      "Device cuda\n",
      "Loading reacher in Train Mode True\n"
     ]
    },
    {
     "name": "stderr",
     "output_type": "stream",
     "text": [
      "INFO:unityagents:\n",
      "'Academy' started successfully!\n",
      "Unity Academy name: Academy\n",
      "        Number of Brains: 1\n",
      "        Number of External Brains : 1\n",
      "        Lesson number : 0\n",
      "        Reset Parameters :\n",
      "\t\tgoal_speed -> 1.0\n",
      "\t\tgoal_size -> 5.0\n",
      "Unity brain name: ReacherBrain\n",
      "        Number of Visual Observations (per agent): 0\n",
      "        Vector Observation space type: continuous\n",
      "        Vector Observation space size (per agent): 33\n",
      "        Number of stacked Vector Observation: 1\n",
      "        Vector Action space type: continuous\n",
      "        Vector Action space size (per agent): 4\n",
      "        Vector Action descriptions: , , , \n"
     ]
    }
   ],
   "source": [
    "import json\n",
    "import numpy as np\n",
    "import torch\n",
    "import torch.nn as nn\n",
    "from utilities.config import Config\n",
    "from environment.unity import UnityEnv\n",
    "from network.bodies import Actor, FCBody, Critic\n",
    "from network.ddpg import DDPGNetwork\n",
    "from agent.ddpg import DDPGAgent\n",
    "\n",
    "file_name = 'config.json'\n",
    "\n",
    "with open(file_name) as f:\n",
    "    args = json.load(f)\n",
    "    config = Config()\n",
    "    config.merge(args)\n",
    "    config.env = UnityEnv(config.env_name, config.train_mode)\n",
    "    "
   ]
  },
  {
   "cell_type": "code",
   "execution_count": 2,
   "id": "cdaadcd8",
   "metadata": {},
   "outputs": [],
   "source": [
    "config.actor_net_func = lambda: Actor(\n",
    "    FCBody(config.env.state_dim, gate_func=nn.ReLU), \n",
    "    config.env.action_dim,\n",
    "    nn.Tanh)\n",
    "\n",
    "config.critic_net_func = lambda: Critic(\n",
    "    config.env.state_dim,\n",
    "    config.env.action_dim)\n",
    "\n",
    "config.actor_opt_func = lambda params: \\\n",
    "    torch.optim.Adam(params, config.actor_learning_rate)\n",
    "config.critic_opt_func = lambda params: \\\n",
    "    torch.optim.Adam(params, config.critic_learning_rate, weight_decay=config.weight_decay)\n",
    "config.network_func = lambda: DDPGNetwork(config)\n"
   ]
  },
  {
   "cell_type": "code",
   "execution_count": 3,
   "id": "819d75c4",
   "metadata": {},
   "outputs": [],
   "source": [
    "agent = DDPGAgent(config)"
   ]
  },
  {
   "cell_type": "code",
   "execution_count": 4,
   "id": "2b2710e3",
   "metadata": {},
   "outputs": [
    {
     "name": "stdout",
     "output_type": "stream",
     "text": [
      "Episode 100\tAverage Score: 1.52\n",
      "Episode 200\tAverage Score: 2.38\n",
      "Episode 300\tAverage Score: 4.22\n",
      "Episode 400\tAverage Score: 7.01\n",
      "Episode 500\tAverage Score: 9.10\n",
      "Episode 600\tAverage Score: 15.85\n",
      "Episode 700\tAverage Score: 24.73\n",
      "Episode 800\tAverage Score: 29.90\n",
      "Episode 900\tAverage Score: 35.53\n",
      "Episode 1000\tAverage Score: 36.69\n"
     ]
    }
   ],
   "source": [
    "from collections import deque\n",
    "\n",
    "def ddpg(config, n_episodes=1000, max_t=1000, print_every=100):\n",
    "  \n",
    "    scores_deque = deque(maxlen=config.log_interval)\n",
    "    scores = []\n",
    "    for i_episode in range(1, config.num_episodes+1):\n",
    "        agent.reset()\n",
    "        episide_score = 0\n",
    "        for t in range(config.max_steps):\n",
    "            score, done = agent.step()\n",
    "            episide_score += score\n",
    "            if done:\n",
    "                break \n",
    "        scores_deque.append(episide_score)\n",
    "        scores.append(episide_score)\n",
    "        print('\\rEpisode {}\\tAverage Score: {:.2f}'.format(i_episode, np.mean(scores_deque)), end=\"\")\n",
    "        torch.save(agent.network.actor_local.state_dict(), 'checkpoint_actor.pth')\n",
    "        torch.save(agent.network.critic_local.state_dict(), 'checkpoint_critic.pth')\n",
    "        if i_episode % print_every == 0:\n",
    "            print('\\rEpisode {}\\tAverage Score: {:.2f}'.format(i_episode, np.mean(scores_deque)))\n",
    "            \n",
    "    return scores\n",
    "\n",
    "scores = ddpg(config)"
   ]
  },
  {
   "cell_type": "code",
   "execution_count": 5,
   "id": "8fcfe65c",
   "metadata": {},
   "outputs": [],
   "source": [
    "torch.save(agent.actor_local.state_dict(), 'checkpoint_actor.pth')\n",
    "torch.save(agent.critic_local.state_dict(), 'checkpoint_critic.pth')"
   ]
  },
  {
   "cell_type": "code",
   "execution_count": 6,
   "id": "cfc88293",
   "metadata": {},
   "outputs": [],
   "source": [
    "torch.save(scores, 'training_scores.score')"
   ]
  },
  {
   "cell_type": "code",
   "execution_count": 4,
   "id": "01a95977",
   "metadata": {},
   "outputs": [
    {
     "data": {
      "image/png": "[encoded data removed]",
      "text/plain": [
       "<Figure size 432x288 with 1 Axes>"
      ]
     },
     "metadata": {
      "needs_background": "light"
     },
     "output_type": "display_data"
    }
   ],
   "source": [
    "import matplotlib.pyplot as plt\n",
    "fig = plt.figure()\n",
    "ax = fig.add_subplot(111)\n",
    "plt.plot(np.arange(1, len(scores)+1), scores)\n",
    "plt.ylabel('Score')\n",
    "plt.xlabel('Episode #')\n",
    "plt.show()"
   ]
  },
  {
   "cell_type": "code",
   "execution_count": null,
   "id": "223095ef",
   "metadata": {},
   "outputs": [],
   "source": [
    "torch.save()"
   ]
  },
  {
   "cell_type": "code",
   "execution_count": null,
   "id": "3b3a0554",
   "metadata": {},
   "outputs": [],
   "source": []
  }
 ],
 "metadata": {
  "kernelspec": {
   "display_name": "Python 3",
   "language": "python",
   "name": "python3"
  },
  "language_info": {
   "codemirror_mode": {
    "name": "ipython",
    "version": 3
   },
   "file_extension": ".py",
   "mimetype": "text/x-python",
   "name": "python",
   "nbconvert_exporter": "python",
   "pygments_lexer": "ipython3",
   "version": "3.6.13"
  }
 },
 "nbformat": 4,
 "nbformat_minor": 5
}
